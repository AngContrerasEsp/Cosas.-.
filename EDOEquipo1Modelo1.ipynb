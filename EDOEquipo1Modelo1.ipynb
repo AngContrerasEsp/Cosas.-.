{
 "cells": [
  {
   "cell_type": "markdown",
   "metadata": {
    "slideshow": {
     "slide_type": "slide"
    }
   },
   "source": [
    "***\n",
    "***\n",
    "# $$\\text{Modelo 1: $\\; y(t) =$  Cuenta de ahorros}$$<br>\n",
    "\n",
    "***\n",
    "***\n",
    "\n",
    "<h6 style=\"text-align:center;\">Miguel Alonso Izquierdo</h6>\n",
    "<h6 style=\"text-align:center;\">Angel Contreras Espinosa</h6>\n",
    "<h6 style=\"text-align:center;\">Andrea Mireya Hernández Aguilar</h6>\n",
    "<h6 style=\"text-align:center;\">Brandon Montano Díaz</h6>\n",
    "<h6 style=\"text-align:center;\">Kevin Luis Lagunes</h6>"
   ]
  },
  {
   "cell_type": "markdown",
   "metadata": {
    "slideshow": {
     "slide_type": "subslide"
    }
   },
   "source": [
    "El propósito de una ecuación diferencial es dar un modelo matemático sobre algún fenómeno inexplicable. Trataremos y notaremos el comportamiento de las  ecuaciones de crecimiento $(a>0)$, ecuaciones de desintegración $(a<0)$ y la ecuación de equilibrio."
   ]
  },
  {
   "cell_type": "markdown",
   "metadata": {
    "slideshow": {
     "slide_type": "slide"
    }
   },
   "source": [
    "Basados en los hechos que Einstein implementó sobre la fuerza de gravedad, empecemos nuestro ejemplo con una cuenta de ahorro."
   ]
  },
  {
   "cell_type": "markdown",
   "metadata": {
    "slideshow": {
     "slide_type": "fragment"
    }
   },
   "source": [
    "Normalmente se guarda dinero en algún lugar sólo con las posibilidades de crecer o decrecer si la persona así lo desea y con el tiempo no verá refrejado un cambio en sus movimientos, actualmente si haces una cuenta de ahorro en algún banco y guardas cierta cantidad, al mes se ve reflejado algún tipo de interés, el cual hace que tu dinero crezca en periodos de un mes, esto ocurre sucesivamente siempre que la cuenta tenga dinero.\n",
    "\n",
    "Como mencionamos anteriormente, esta es una fórmula basada en la **tasa de ahorros continuos**, empecemos con nuestro ejemplo."
   ]
  },
  {
   "cell_type": "markdown",
   "metadata": {
    "slideshow": {
     "slide_type": "slide"
    }
   },
   "source": [
    "## Terminología:\n",
    "\n",
    "\n",
    "*   Tasa de ahorro $q(t)$: Éste es un depósito que se hace cada cierto tiempo en la cuenta bancaria, basado en el ingreso disponible del usuario. Para nuestro modelo, consideramos un ingreso en cada instante, i.e. $q(t)$ continuo.\n",
    "*   Interés  $ay$: El porcentaje del pago que se da sobre el depósito inicial $y(0)$. En nuestro caso $a$ es fijo."
   ]
  },
  {
   "cell_type": "markdown",
   "metadata": {
    "slideshow": {
     "slide_type": "subslide"
    }
   },
   "source": [
    "Así, tenemos que $y(t)$ satisface la ecuación diferencial:"
   ]
  },
  {
   "cell_type": "markdown",
   "metadata": {
    "slideshow": {
     "slide_type": "fragment"
    }
   },
   "source": [
    "$$y'=ay+q$$"
   ]
  },
  {
   "cell_type": "markdown",
   "metadata": {
    "slideshow": {
     "slide_type": "fragment"
    }
   },
   "source": [
    "Procederemos a resolverla"
   ]
  },
  {
   "cell_type": "markdown",
   "metadata": {
    "slideshow": {
     "slide_type": "subslide"
    }
   },
   "source": [
    "Reescribiendo la ecuación, tenemos"
   ]
  },
  {
   "cell_type": "markdown",
   "metadata": {
    "slideshow": {
     "slide_type": "fragment"
    }
   },
   "source": [
    "$$y' - ay = q$$"
   ]
  },
  {
   "cell_type": "markdown",
   "metadata": {
    "slideshow": {
     "slide_type": "fragment"
    }
   },
   "source": [
    "Multiplicando ambos lados de la ecuación por el factor integrante $M(t) = e^{-at}$"
   ]
  },
  {
   "cell_type": "markdown",
   "metadata": {
    "slideshow": {
     "slide_type": "fragment"
    }
   },
   "source": [
    "$$e^{-at}\\left( y' - ay \\right) = qe^{-at}$$"
   ]
  },
  {
   "cell_type": "markdown",
   "metadata": {
    "slideshow": {
     "slide_type": "fragment"
    }
   },
   "source": [
    "El lado izquierdo de la igualdad resulta ser $\\frac{d}{dt}\\scriptstyle(e^{-at}y)$, entonces"
   ]
  },
  {
   "cell_type": "markdown",
   "metadata": {
    "slideshow": {
     "slide_type": "fragment"
    }
   },
   "source": [
    "$$\\frac{d}{dt}\\left( e^{-at}y \\right) = qe^{-at}$$"
   ]
  },
  {
   "cell_type": "markdown",
   "metadata": {
    "slideshow": {
     "slide_type": "fragment"
    }
   },
   "source": [
    "Integrando ambos lados de la ecuación de $0$ a $t$"
   ]
  },
  {
   "cell_type": "markdown",
   "metadata": {
    "slideshow": {
     "slide_type": "fragment"
    }
   },
   "source": [
    "$$\\int_0^t \\frac{d}{dt}\\left( e^{-at}y \\right) dt = \\int_0^t qe^{-as} ds$$"
   ]
  },
  {
   "cell_type": "markdown",
   "metadata": {
    "slideshow": {
     "slide_type": "fragment"
    }
   },
   "source": [
    "$$e^{-at}y(t) - e^{-a(0)}y(0) = -\\frac{q}{a} e^{-as}\\Big|_0^t$$"
   ]
  },
  {
   "cell_type": "markdown",
   "metadata": {
    "slideshow": {
     "slide_type": "fragment"
    }
   },
   "source": [
    "$$e^{-at}y(t) - y(0) = -\\frac{q}{a} e^{-at} + \\frac{q}{a}$$"
   ]
  },
  {
   "cell_type": "markdown",
   "metadata": {
    "slideshow": {
     "slide_type": "fragment"
    }
   },
   "source": [
    "$$e^{-at}y(t) = y(0) -\\frac{q}{a}e^{-at} + \\frac{q}{a}$$"
   ]
  },
  {
   "cell_type": "markdown",
   "metadata": {
    "slideshow": {
     "slide_type": "fragment"
    }
   },
   "source": [
    "Multiplicando ambos lados de la ecuación por $e^{at}$ y factorizando el término $\\frac{q}{a}$ se obtiene la solución $y(t):$"
   ]
  },
  {
   "cell_type": "markdown",
   "metadata": {
    "slideshow": {
     "slide_type": "fragment"
    }
   },
   "source": [
    "### $$\\fbox{$y(t)=e^{at}y(0)+q\\frac{e^{at}-1}{a}$}$$"
   ]
  },
  {
   "cell_type": "markdown",
   "metadata": {
    "slideshow": {
     "slide_type": "fragment"
    }
   },
   "source": [
    "De donde se identifican:"
   ]
  },
  {
   "cell_type": "markdown",
   "metadata": {
    "slideshow": {
     "slide_type": "fragment"
    }
   },
   "source": [
    "$$y_n = e^{at}y(0)$$"
   ]
  },
  {
   "cell_type": "markdown",
   "metadata": {
    "slideshow": {
     "slide_type": "fragment"
    }
   },
   "source": [
    "$$y_p = q\\frac{e^{at}-1}{a}$$"
   ]
  },
  {
   "cell_type": "markdown",
   "metadata": {
    "slideshow": {
     "slide_type": "slide"
    }
   },
   "source": [
    "Una pregunta que nos podemos hacer, dada esta fórmula es: "
   ]
  },
  {
   "cell_type": "markdown",
   "metadata": {
    "slideshow": {
     "slide_type": "fragment"
    }
   },
   "source": [
    "### $$\\text{¿Qué sucede si $a=0$?}$$ "
   ]
  },
  {
   "cell_type": "markdown",
   "metadata": {
    "slideshow": {
     "slide_type": "subslide"
    }
   },
   "source": [
    "Es decir, si $a=0$, la ecuación original se vuelve:"
   ]
  },
  {
   "cell_type": "markdown",
   "metadata": {
    "slideshow": {
     "slide_type": "fragment"
    }
   },
   "source": [
    "$$y'=q$$"
   ]
  },
  {
   "cell_type": "markdown",
   "metadata": {
    "slideshow": {
     "slide_type": "fragment"
    }
   },
   "source": [
    "Con solución:"
   ]
  },
  {
   "cell_type": "markdown",
   "metadata": {
    "slideshow": {
     "slide_type": "fragment"
    }
   },
   "source": [
    "$$y=q\\,t+y(0)$$"
   ]
  },
  {
   "cell_type": "markdown",
   "metadata": {
    "slideshow": {
     "slide_type": "fragment"
    }
   },
   "source": [
    "Es decir, **el único dinero que obtenemos es el mismo que introduzcamos**, no hay pérdidas pero tampoco hay ganancias. "
   ]
  },
  {
   "cell_type": "markdown",
   "metadata": {
    "slideshow": {
     "slide_type": "slide"
    }
   },
   "source": [
    "Notamos que esta misma solución se obtiene con una aplicación de la regla de ***l'Hôpital*** en nuestra primera solución, ya que:"
   ]
  },
  {
   "cell_type": "markdown",
   "metadata": {
    "slideshow": {
     "slide_type": "fragment"
    }
   },
   "source": [
    "$$\\lim_{a\\rightarrow 0}\\frac{e^{at}-1}{a}=\\lim_{a\\rightarrow 0}\\frac{te^{at}}{1}=t$$"
   ]
  },
  {
   "cell_type": "markdown",
   "metadata": {
    "slideshow": {
     "slide_type": "fragment"
    }
   },
   "source": [
    "Así,"
   ]
  },
  {
   "cell_type": "markdown",
   "metadata": {
    "slideshow": {
     "slide_type": "fragment"
    }
   },
   "source": [
    "$$\\lim_{a\\rightarrow 0}e^{at}y(0)+q\\frac{e^{at}-1}{a}=q\\:t+y(0)$$"
   ]
  },
  {
   "cell_type": "markdown",
   "metadata": {
    "slideshow": {
     "slide_type": "fragment"
    }
   },
   "source": [
    "Nuestras soluciones coinciden en el caso límite."
   ]
  },
  {
   "cell_type": "markdown",
   "metadata": {
    "slideshow": {
     "slide_type": "slide"
    }
   },
   "source": [
    "Una pregunta natural que nos podemos hacer repecto a esta situación es:"
   ]
  },
  {
   "cell_type": "markdown",
   "metadata": {
    "slideshow": {
     "slide_type": "fragment"
    }
   },
   "source": [
    "### $$\\text{¿Qué sucede con nuestro dinero al realizar gastos constantemente?}$$"
   ]
  },
  {
   "cell_type": "markdown",
   "metadata": {
    "slideshow": {
     "slide_type": "fragment"
    }
   },
   "source": [
    "Apoyándonos de nuestra solución, podemos verificar que esto dependerá de cuánto gastemos y de cuánto crezca nuestra inversión inicial, es decir..."
   ]
  },
  {
   "cell_type": "markdown",
   "metadata": {
    "slideshow": {
     "slide_type": "fragment"
    }
   },
   "source": [
    "Si gastamos lo suficiente para que nuestra tasa de ahorros sea negativa,"
   ]
  },
  {
   "cell_type": "markdown",
   "metadata": {
    "slideshow": {
     "slide_type": "fragment"
    }
   },
   "source": [
    "### $$\\text{¿Es posible que nuestra tasa de interés nos provea del dinero suficiente para mantenernos arriba del 0?}$$"
   ]
  },
  {
   "cell_type": "markdown",
   "metadata": {
    "slideshow": {
     "slide_type": "subslide"
    }
   },
   "source": [
    "Dado que:\n",
    "$$y'=ay+q$$"
   ]
  },
  {
   "cell_type": "markdown",
   "metadata": {
    "slideshow": {
     "slide_type": "fragment"
    }
   },
   "source": [
    "Tenemos que $y$ es creciente siempre que $ay+q>0$, en el caso $a=0$ esto es solo cuando $q>0$ claramente."
   ]
  },
  {
   "cell_type": "markdown",
   "metadata": {
    "slideshow": {
     "slide_type": "fragment"
    }
   },
   "source": [
    "Así, si sustituimos nuestra solución general, nuestra desigualdad se vuelve:\n",
    "$$a(e^{at}y(0)+q\\frac{e^{at}-1}{a})+q>0$$\n",
    "$$ae^{at}y(0)+q(e^{at}-1)+q>0$$\n",
    "$$ae^{at}y(0)+q(e^{at})>0$$\n",
    "Como $e^{at}>0$ para todo $t$, esto se reduce a:\n",
    "$$ay(0)+q>0$$"
   ]
  },
  {
   "cell_type": "markdown",
   "metadata": {
    "slideshow": {
     "slide_type": "fragment"
    }
   },
   "source": [
    "Por lo que **$y$ crece siempre que $ay(0)+q>0$.**"
   ]
  },
  {
   "cell_type": "markdown",
   "metadata": {
    "slideshow": {
     "slide_type": "fragment"
    }
   },
   "source": [
    "De igual manera, se deduce que **$y$ decrece cuando $ay(0)+q<0$.**"
   ]
  },
  {
   "cell_type": "markdown",
   "metadata": {
    "slideshow": {
     "slide_type": "fragment"
    }
   },
   "source": [
    "También observamos que **si $ay(0)+q=0$ nuestra cantidad de dinero se mantiene constante en $y(0)$.**"
   ]
  },
  {
   "cell_type": "markdown",
   "metadata": {
    "slideshow": {
     "slide_type": "slide"
    }
   },
   "source": [
    "No hemos dicho nada aún sobre los signos de nuestras constantes, sin embargo, es claro que **si $a>0$ y $q>0$, nuestro dinero crece**, y que **si $a<0$ y $q<0$ nuestro dinero decrece.** Aún más, en estos casos, es claro que nuestro dinero crecerá indefinidamente o decrecerá a cierto valor."
   ]
  },
  {
   "cell_type": "markdown",
   "metadata": {
    "slideshow": {
     "slide_type": "slide"
    }
   },
   "source": [
    "Podemos preguntarnos acerca del comportamiento a largo plazo de nuestro dinero, es decir:"
   ]
  },
  {
   "cell_type": "markdown",
   "metadata": {
    "slideshow": {
     "slide_type": "fragment"
    }
   },
   "source": [
    "$$\\lim_{t\\to\\infty}y(t)$$"
   ]
  },
  {
   "cell_type": "markdown",
   "metadata": {
    "slideshow": {
     "slide_type": "fragment"
    }
   },
   "source": [
    "En este caso, sustituimos nuestra solucion y vemos que:\n",
    "\n",
    "$$\\lim_{t\\to\\infty} y(t)=\\lim_{t\\to\\infty}e^{at}y(0)+q\\frac{e^{at}-1}{a}$$\n",
    "\n",
    "$$=\\lim_{t\\to\\infty} e^{at}(y(0)+q\\frac{1-{e^{-at}}}{a})$$"
   ]
  },
  {
   "cell_type": "markdown",
   "metadata": {
    "slideshow": {
     "slide_type": "fragment"
    }
   },
   "source": [
    "Si $a>0$ el término en paréntesis tiende a $y(0)+\\frac{q}{a}$, y $e^{at}$ tiende a infinito. Así, dependiendo del signo de $y(0)+\\frac{q}{a}$, el cual es el mismo que $ay(0)+q$, $y$ tenderá a $+\\infty$ si nuestro dinero crece o a $-\\infty$ si nuestro dinero decrece.\n",
    "\n",
    "**Si $a<0$, entonces $y$ tiende a $-\\frac{q}{a}$**"
   ]
  },
  {
   "cell_type": "code",
   "execution_count": 1,
   "metadata": {
    "slideshow": {
     "slide_type": "skip"
    }
   },
   "outputs": [],
   "source": [
    "%matplotlib notebook\n",
    "import numpy as np\n",
    "import matplotlib.pyplot as plt\n",
    "import seaborn as sb\n",
    "import ipywidgets as wg\n",
    "\n",
    "t=np.linspace(0, 120, 1200)\n",
    "\n",
    "def f1(interes, ahorro, depositoInicial, tiempo):\n",
    "\n",
    "    return (depositoInicial*np.exp(interes*tiempo)) + (ahorro*(np.exp(interes*tiempo) - 1)/interes)\n",
    "\n",
    "def f2(ahorro, depositoInicial, tiempo):\n",
    "\n",
    "    return ahorro*tiempo + depositoInicial"
   ]
  },
  {
   "cell_type": "code",
   "execution_count": 2,
   "metadata": {
    "slideshow": {
     "slide_type": "subslide"
    }
   },
   "outputs": [
    {
     "data": {
      "application/javascript": [
       "/* Put everything inside the global mpl namespace */\n",
       "window.mpl = {};\n",
       "\n",
       "\n",
       "mpl.get_websocket_type = function() {\n",
       "    if (typeof(WebSocket) !== 'undefined') {\n",
       "        return WebSocket;\n",
       "    } else if (typeof(MozWebSocket) !== 'undefined') {\n",
       "        return MozWebSocket;\n",
       "    } else {\n",
       "        alert('Your browser does not have WebSocket support. ' +\n",
       "              'Please try Chrome, Safari or Firefox ≥ 6. ' +\n",
       "              'Firefox 4 and 5 are also supported but you ' +\n",
       "              'have to enable WebSockets in about:config.');\n",
       "    };\n",
       "}\n",
       "\n",
       "mpl.figure = function(figure_id, websocket, ondownload, parent_element) {\n",
       "    this.id = figure_id;\n",
       "\n",
       "    this.ws = websocket;\n",
       "\n",
       "    this.supports_binary = (this.ws.binaryType != undefined);\n",
       "\n",
       "    if (!this.supports_binary) {\n",
       "        var warnings = document.getElementById(\"mpl-warnings\");\n",
       "        if (warnings) {\n",
       "            warnings.style.display = 'block';\n",
       "            warnings.textContent = (\n",
       "                \"This browser does not support binary websocket messages. \" +\n",
       "                    \"Performance may be slow.\");\n",
       "        }\n",
       "    }\n",
       "\n",
       "    this.imageObj = new Image();\n",
       "\n",
       "    this.context = undefined;\n",
       "    this.message = undefined;\n",
       "    this.canvas = undefined;\n",
       "    this.rubberband_canvas = undefined;\n",
       "    this.rubberband_context = undefined;\n",
       "    this.format_dropdown = undefined;\n",
       "\n",
       "    this.image_mode = 'full';\n",
       "\n",
       "    this.root = $('<div/>');\n",
       "    this._root_extra_style(this.root)\n",
       "    this.root.attr('style', 'display: inline-block');\n",
       "\n",
       "    $(parent_element).append(this.root);\n",
       "\n",
       "    this._init_header(this);\n",
       "    this._init_canvas(this);\n",
       "    this._init_toolbar(this);\n",
       "\n",
       "    var fig = this;\n",
       "\n",
       "    this.waiting = false;\n",
       "\n",
       "    this.ws.onopen =  function () {\n",
       "            fig.send_message(\"supports_binary\", {value: fig.supports_binary});\n",
       "            fig.send_message(\"send_image_mode\", {});\n",
       "            if (mpl.ratio != 1) {\n",
       "                fig.send_message(\"set_dpi_ratio\", {'dpi_ratio': mpl.ratio});\n",
       "            }\n",
       "            fig.send_message(\"refresh\", {});\n",
       "        }\n",
       "\n",
       "    this.imageObj.onload = function() {\n",
       "            if (fig.image_mode == 'full') {\n",
       "                // Full images could contain transparency (where diff images\n",
       "                // almost always do), so we need to clear the canvas so that\n",
       "                // there is no ghosting.\n",
       "                fig.context.clearRect(0, 0, fig.canvas.width, fig.canvas.height);\n",
       "            }\n",
       "            fig.context.drawImage(fig.imageObj, 0, 0);\n",
       "        };\n",
       "\n",
       "    this.imageObj.onunload = function() {\n",
       "        fig.ws.close();\n",
       "    }\n",
       "\n",
       "    this.ws.onmessage = this._make_on_message_function(this);\n",
       "\n",
       "    this.ondownload = ondownload;\n",
       "}\n",
       "\n",
       "mpl.figure.prototype._init_header = function() {\n",
       "    var titlebar = $(\n",
       "        '<div class=\"ui-dialog-titlebar ui-widget-header ui-corner-all ' +\n",
       "        'ui-helper-clearfix\"/>');\n",
       "    var titletext = $(\n",
       "        '<div class=\"ui-dialog-title\" style=\"width: 100%; ' +\n",
       "        'text-align: center; padding: 3px;\"/>');\n",
       "    titlebar.append(titletext)\n",
       "    this.root.append(titlebar);\n",
       "    this.header = titletext[0];\n",
       "}\n",
       "\n",
       "\n",
       "\n",
       "mpl.figure.prototype._canvas_extra_style = function(canvas_div) {\n",
       "\n",
       "}\n",
       "\n",
       "\n",
       "mpl.figure.prototype._root_extra_style = function(canvas_div) {\n",
       "\n",
       "}\n",
       "\n",
       "mpl.figure.prototype._init_canvas = function() {\n",
       "    var fig = this;\n",
       "\n",
       "    var canvas_div = $('<div/>');\n",
       "\n",
       "    canvas_div.attr('style', 'position: relative; clear: both; outline: 0');\n",
       "\n",
       "    function canvas_keyboard_event(event) {\n",
       "        return fig.key_event(event, event['data']);\n",
       "    }\n",
       "\n",
       "    canvas_div.keydown('key_press', canvas_keyboard_event);\n",
       "    canvas_div.keyup('key_release', canvas_keyboard_event);\n",
       "    this.canvas_div = canvas_div\n",
       "    this._canvas_extra_style(canvas_div)\n",
       "    this.root.append(canvas_div);\n",
       "\n",
       "    var canvas = $('<canvas/>');\n",
       "    canvas.addClass('mpl-canvas');\n",
       "    canvas.attr('style', \"left: 0; top: 0; z-index: 0; outline: 0\")\n",
       "\n",
       "    this.canvas = canvas[0];\n",
       "    this.context = canvas[0].getContext(\"2d\");\n",
       "\n",
       "    var backingStore = this.context.backingStorePixelRatio ||\n",
       "\tthis.context.webkitBackingStorePixelRatio ||\n",
       "\tthis.context.mozBackingStorePixelRatio ||\n",
       "\tthis.context.msBackingStorePixelRatio ||\n",
       "\tthis.context.oBackingStorePixelRatio ||\n",
       "\tthis.context.backingStorePixelRatio || 1;\n",
       "\n",
       "    mpl.ratio = (window.devicePixelRatio || 1) / backingStore;\n",
       "\n",
       "    var rubberband = $('<canvas/>');\n",
       "    rubberband.attr('style', \"position: absolute; left: 0; top: 0; z-index: 1;\")\n",
       "\n",
       "    var pass_mouse_events = true;\n",
       "\n",
       "    canvas_div.resizable({\n",
       "        start: function(event, ui) {\n",
       "            pass_mouse_events = false;\n",
       "        },\n",
       "        resize: function(event, ui) {\n",
       "            fig.request_resize(ui.size.width, ui.size.height);\n",
       "        },\n",
       "        stop: function(event, ui) {\n",
       "            pass_mouse_events = true;\n",
       "            fig.request_resize(ui.size.width, ui.size.height);\n",
       "        },\n",
       "    });\n",
       "\n",
       "    function mouse_event_fn(event) {\n",
       "        if (pass_mouse_events)\n",
       "            return fig.mouse_event(event, event['data']);\n",
       "    }\n",
       "\n",
       "    rubberband.mousedown('button_press', mouse_event_fn);\n",
       "    rubberband.mouseup('button_release', mouse_event_fn);\n",
       "    // Throttle sequential mouse events to 1 every 20ms.\n",
       "    rubberband.mousemove('motion_notify', mouse_event_fn);\n",
       "\n",
       "    rubberband.mouseenter('figure_enter', mouse_event_fn);\n",
       "    rubberband.mouseleave('figure_leave', mouse_event_fn);\n",
       "\n",
       "    canvas_div.on(\"wheel\", function (event) {\n",
       "        event = event.originalEvent;\n",
       "        event['data'] = 'scroll'\n",
       "        if (event.deltaY < 0) {\n",
       "            event.step = 1;\n",
       "        } else {\n",
       "            event.step = -1;\n",
       "        }\n",
       "        mouse_event_fn(event);\n",
       "    });\n",
       "\n",
       "    canvas_div.append(canvas);\n",
       "    canvas_div.append(rubberband);\n",
       "\n",
       "    this.rubberband = rubberband;\n",
       "    this.rubberband_canvas = rubberband[0];\n",
       "    this.rubberband_context = rubberband[0].getContext(\"2d\");\n",
       "    this.rubberband_context.strokeStyle = \"#000000\";\n",
       "\n",
       "    this._resize_canvas = function(width, height) {\n",
       "        // Keep the size of the canvas, canvas container, and rubber band\n",
       "        // canvas in synch.\n",
       "        canvas_div.css('width', width)\n",
       "        canvas_div.css('height', height)\n",
       "\n",
       "        canvas.attr('width', width * mpl.ratio);\n",
       "        canvas.attr('height', height * mpl.ratio);\n",
       "        canvas.attr('style', 'width: ' + width + 'px; height: ' + height + 'px;');\n",
       "\n",
       "        rubberband.attr('width', width);\n",
       "        rubberband.attr('height', height);\n",
       "    }\n",
       "\n",
       "    // Set the figure to an initial 600x600px, this will subsequently be updated\n",
       "    // upon first draw.\n",
       "    this._resize_canvas(600, 600);\n",
       "\n",
       "    // Disable right mouse context menu.\n",
       "    $(this.rubberband_canvas).bind(\"contextmenu\",function(e){\n",
       "        return false;\n",
       "    });\n",
       "\n",
       "    function set_focus () {\n",
       "        canvas.focus();\n",
       "        canvas_div.focus();\n",
       "    }\n",
       "\n",
       "    window.setTimeout(set_focus, 100);\n",
       "}\n",
       "\n",
       "mpl.figure.prototype._init_toolbar = function() {\n",
       "    var fig = this;\n",
       "\n",
       "    var nav_element = $('<div/>');\n",
       "    nav_element.attr('style', 'width: 100%');\n",
       "    this.root.append(nav_element);\n",
       "\n",
       "    // Define a callback function for later on.\n",
       "    function toolbar_event(event) {\n",
       "        return fig.toolbar_button_onclick(event['data']);\n",
       "    }\n",
       "    function toolbar_mouse_event(event) {\n",
       "        return fig.toolbar_button_onmouseover(event['data']);\n",
       "    }\n",
       "\n",
       "    for(var toolbar_ind in mpl.toolbar_items) {\n",
       "        var name = mpl.toolbar_items[toolbar_ind][0];\n",
       "        var tooltip = mpl.toolbar_items[toolbar_ind][1];\n",
       "        var image = mpl.toolbar_items[toolbar_ind][2];\n",
       "        var method_name = mpl.toolbar_items[toolbar_ind][3];\n",
       "\n",
       "        if (!name) {\n",
       "            // put a spacer in here.\n",
       "            continue;\n",
       "        }\n",
       "        var button = $('<button/>');\n",
       "        button.addClass('ui-button ui-widget ui-state-default ui-corner-all ' +\n",
       "                        'ui-button-icon-only');\n",
       "        button.attr('role', 'button');\n",
       "        button.attr('aria-disabled', 'false');\n",
       "        button.click(method_name, toolbar_event);\n",
       "        button.mouseover(tooltip, toolbar_mouse_event);\n",
       "\n",
       "        var icon_img = $('<span/>');\n",
       "        icon_img.addClass('ui-button-icon-primary ui-icon');\n",
       "        icon_img.addClass(image);\n",
       "        icon_img.addClass('ui-corner-all');\n",
       "\n",
       "        var tooltip_span = $('<span/>');\n",
       "        tooltip_span.addClass('ui-button-text');\n",
       "        tooltip_span.html(tooltip);\n",
       "\n",
       "        button.append(icon_img);\n",
       "        button.append(tooltip_span);\n",
       "\n",
       "        nav_element.append(button);\n",
       "    }\n",
       "\n",
       "    var fmt_picker_span = $('<span/>');\n",
       "\n",
       "    var fmt_picker = $('<select/>');\n",
       "    fmt_picker.addClass('mpl-toolbar-option ui-widget ui-widget-content');\n",
       "    fmt_picker_span.append(fmt_picker);\n",
       "    nav_element.append(fmt_picker_span);\n",
       "    this.format_dropdown = fmt_picker[0];\n",
       "\n",
       "    for (var ind in mpl.extensions) {\n",
       "        var fmt = mpl.extensions[ind];\n",
       "        var option = $(\n",
       "            '<option/>', {selected: fmt === mpl.default_extension}).html(fmt);\n",
       "        fmt_picker.append(option);\n",
       "    }\n",
       "\n",
       "    // Add hover states to the ui-buttons\n",
       "    $( \".ui-button\" ).hover(\n",
       "        function() { $(this).addClass(\"ui-state-hover\");},\n",
       "        function() { $(this).removeClass(\"ui-state-hover\");}\n",
       "    );\n",
       "\n",
       "    var status_bar = $('<span class=\"mpl-message\"/>');\n",
       "    nav_element.append(status_bar);\n",
       "    this.message = status_bar[0];\n",
       "}\n",
       "\n",
       "mpl.figure.prototype.request_resize = function(x_pixels, y_pixels) {\n",
       "    // Request matplotlib to resize the figure. Matplotlib will then trigger a resize in the client,\n",
       "    // which will in turn request a refresh of the image.\n",
       "    this.send_message('resize', {'width': x_pixels, 'height': y_pixels});\n",
       "}\n",
       "\n",
       "mpl.figure.prototype.send_message = function(type, properties) {\n",
       "    properties['type'] = type;\n",
       "    properties['figure_id'] = this.id;\n",
       "    this.ws.send(JSON.stringify(properties));\n",
       "}\n",
       "\n",
       "mpl.figure.prototype.send_draw_message = function() {\n",
       "    if (!this.waiting) {\n",
       "        this.waiting = true;\n",
       "        this.ws.send(JSON.stringify({type: \"draw\", figure_id: this.id}));\n",
       "    }\n",
       "}\n",
       "\n",
       "\n",
       "mpl.figure.prototype.handle_save = function(fig, msg) {\n",
       "    var format_dropdown = fig.format_dropdown;\n",
       "    var format = format_dropdown.options[format_dropdown.selectedIndex].value;\n",
       "    fig.ondownload(fig, format);\n",
       "}\n",
       "\n",
       "\n",
       "mpl.figure.prototype.handle_resize = function(fig, msg) {\n",
       "    var size = msg['size'];\n",
       "    if (size[0] != fig.canvas.width || size[1] != fig.canvas.height) {\n",
       "        fig._resize_canvas(size[0], size[1]);\n",
       "        fig.send_message(\"refresh\", {});\n",
       "    };\n",
       "}\n",
       "\n",
       "mpl.figure.prototype.handle_rubberband = function(fig, msg) {\n",
       "    var x0 = msg['x0'] / mpl.ratio;\n",
       "    var y0 = (fig.canvas.height - msg['y0']) / mpl.ratio;\n",
       "    var x1 = msg['x1'] / mpl.ratio;\n",
       "    var y1 = (fig.canvas.height - msg['y1']) / mpl.ratio;\n",
       "    x0 = Math.floor(x0) + 0.5;\n",
       "    y0 = Math.floor(y0) + 0.5;\n",
       "    x1 = Math.floor(x1) + 0.5;\n",
       "    y1 = Math.floor(y1) + 0.5;\n",
       "    var min_x = Math.min(x0, x1);\n",
       "    var min_y = Math.min(y0, y1);\n",
       "    var width = Math.abs(x1 - x0);\n",
       "    var height = Math.abs(y1 - y0);\n",
       "\n",
       "    fig.rubberband_context.clearRect(\n",
       "        0, 0, fig.canvas.width / mpl.ratio, fig.canvas.height / mpl.ratio);\n",
       "\n",
       "    fig.rubberband_context.strokeRect(min_x, min_y, width, height);\n",
       "}\n",
       "\n",
       "mpl.figure.prototype.handle_figure_label = function(fig, msg) {\n",
       "    // Updates the figure title.\n",
       "    fig.header.textContent = msg['label'];\n",
       "}\n",
       "\n",
       "mpl.figure.prototype.handle_cursor = function(fig, msg) {\n",
       "    var cursor = msg['cursor'];\n",
       "    switch(cursor)\n",
       "    {\n",
       "    case 0:\n",
       "        cursor = 'pointer';\n",
       "        break;\n",
       "    case 1:\n",
       "        cursor = 'default';\n",
       "        break;\n",
       "    case 2:\n",
       "        cursor = 'crosshair';\n",
       "        break;\n",
       "    case 3:\n",
       "        cursor = 'move';\n",
       "        break;\n",
       "    }\n",
       "    fig.rubberband_canvas.style.cursor = cursor;\n",
       "}\n",
       "\n",
       "mpl.figure.prototype.handle_message = function(fig, msg) {\n",
       "    fig.message.textContent = msg['message'];\n",
       "}\n",
       "\n",
       "mpl.figure.prototype.handle_draw = function(fig, msg) {\n",
       "    // Request the server to send over a new figure.\n",
       "    fig.send_draw_message();\n",
       "}\n",
       "\n",
       "mpl.figure.prototype.handle_image_mode = function(fig, msg) {\n",
       "    fig.image_mode = msg['mode'];\n",
       "}\n",
       "\n",
       "mpl.figure.prototype.updated_canvas_event = function() {\n",
       "    // Called whenever the canvas gets updated.\n",
       "    this.send_message(\"ack\", {});\n",
       "}\n",
       "\n",
       "// A function to construct a web socket function for onmessage handling.\n",
       "// Called in the figure constructor.\n",
       "mpl.figure.prototype._make_on_message_function = function(fig) {\n",
       "    return function socket_on_message(evt) {\n",
       "        if (evt.data instanceof Blob) {\n",
       "            /* FIXME: We get \"Resource interpreted as Image but\n",
       "             * transferred with MIME type text/plain:\" errors on\n",
       "             * Chrome.  But how to set the MIME type?  It doesn't seem\n",
       "             * to be part of the websocket stream */\n",
       "            evt.data.type = \"image/png\";\n",
       "\n",
       "            /* Free the memory for the previous frames */\n",
       "            if (fig.imageObj.src) {\n",
       "                (window.URL || window.webkitURL).revokeObjectURL(\n",
       "                    fig.imageObj.src);\n",
       "            }\n",
       "\n",
       "            fig.imageObj.src = (window.URL || window.webkitURL).createObjectURL(\n",
       "                evt.data);\n",
       "            fig.updated_canvas_event();\n",
       "            fig.waiting = false;\n",
       "            return;\n",
       "        }\n",
       "        else if (typeof evt.data === 'string' && evt.data.slice(0, 21) == \"data:image/png;base64\") {\n",
       "            fig.imageObj.src = evt.data;\n",
       "            fig.updated_canvas_event();\n",
       "            fig.waiting = false;\n",
       "            return;\n",
       "        }\n",
       "\n",
       "        var msg = JSON.parse(evt.data);\n",
       "        var msg_type = msg['type'];\n",
       "\n",
       "        // Call the  \"handle_{type}\" callback, which takes\n",
       "        // the figure and JSON message as its only arguments.\n",
       "        try {\n",
       "            var callback = fig[\"handle_\" + msg_type];\n",
       "        } catch (e) {\n",
       "            console.log(\"No handler for the '\" + msg_type + \"' message type: \", msg);\n",
       "            return;\n",
       "        }\n",
       "\n",
       "        if (callback) {\n",
       "            try {\n",
       "                // console.log(\"Handling '\" + msg_type + \"' message: \", msg);\n",
       "                callback(fig, msg);\n",
       "            } catch (e) {\n",
       "                console.log(\"Exception inside the 'handler_\" + msg_type + \"' callback:\", e, e.stack, msg);\n",
       "            }\n",
       "        }\n",
       "    };\n",
       "}\n",
       "\n",
       "// from http://stackoverflow.com/questions/1114465/getting-mouse-location-in-canvas\n",
       "mpl.findpos = function(e) {\n",
       "    //this section is from http://www.quirksmode.org/js/events_properties.html\n",
       "    var targ;\n",
       "    if (!e)\n",
       "        e = window.event;\n",
       "    if (e.target)\n",
       "        targ = e.target;\n",
       "    else if (e.srcElement)\n",
       "        targ = e.srcElement;\n",
       "    if (targ.nodeType == 3) // defeat Safari bug\n",
       "        targ = targ.parentNode;\n",
       "\n",
       "    // jQuery normalizes the pageX and pageY\n",
       "    // pageX,Y are the mouse positions relative to the document\n",
       "    // offset() returns the position of the element relative to the document\n",
       "    var x = e.pageX - $(targ).offset().left;\n",
       "    var y = e.pageY - $(targ).offset().top;\n",
       "\n",
       "    return {\"x\": x, \"y\": y};\n",
       "};\n",
       "\n",
       "/*\n",
       " * return a copy of an object with only non-object keys\n",
       " * we need this to avoid circular references\n",
       " * http://stackoverflow.com/a/24161582/3208463\n",
       " */\n",
       "function simpleKeys (original) {\n",
       "  return Object.keys(original).reduce(function (obj, key) {\n",
       "    if (typeof original[key] !== 'object')\n",
       "        obj[key] = original[key]\n",
       "    return obj;\n",
       "  }, {});\n",
       "}\n",
       "\n",
       "mpl.figure.prototype.mouse_event = function(event, name) {\n",
       "    var canvas_pos = mpl.findpos(event)\n",
       "\n",
       "    if (name === 'button_press')\n",
       "    {\n",
       "        this.canvas.focus();\n",
       "        this.canvas_div.focus();\n",
       "    }\n",
       "\n",
       "    var x = canvas_pos.x * mpl.ratio;\n",
       "    var y = canvas_pos.y * mpl.ratio;\n",
       "\n",
       "    this.send_message(name, {x: x, y: y, button: event.button,\n",
       "                             step: event.step,\n",
       "                             guiEvent: simpleKeys(event)});\n",
       "\n",
       "    /* This prevents the web browser from automatically changing to\n",
       "     * the text insertion cursor when the button is pressed.  We want\n",
       "     * to control all of the cursor setting manually through the\n",
       "     * 'cursor' event from matplotlib */\n",
       "    event.preventDefault();\n",
       "    return false;\n",
       "}\n",
       "\n",
       "mpl.figure.prototype._key_event_extra = function(event, name) {\n",
       "    // Handle any extra behaviour associated with a key event\n",
       "}\n",
       "\n",
       "mpl.figure.prototype.key_event = function(event, name) {\n",
       "\n",
       "    // Prevent repeat events\n",
       "    if (name == 'key_press')\n",
       "    {\n",
       "        if (event.which === this._key)\n",
       "            return;\n",
       "        else\n",
       "            this._key = event.which;\n",
       "    }\n",
       "    if (name == 'key_release')\n",
       "        this._key = null;\n",
       "\n",
       "    var value = '';\n",
       "    if (event.ctrlKey && event.which != 17)\n",
       "        value += \"ctrl+\";\n",
       "    if (event.altKey && event.which != 18)\n",
       "        value += \"alt+\";\n",
       "    if (event.shiftKey && event.which != 16)\n",
       "        value += \"shift+\";\n",
       "\n",
       "    value += 'k';\n",
       "    value += event.which.toString();\n",
       "\n",
       "    this._key_event_extra(event, name);\n",
       "\n",
       "    this.send_message(name, {key: value,\n",
       "                             guiEvent: simpleKeys(event)});\n",
       "    return false;\n",
       "}\n",
       "\n",
       "mpl.figure.prototype.toolbar_button_onclick = function(name) {\n",
       "    if (name == 'download') {\n",
       "        this.handle_save(this, null);\n",
       "    } else {\n",
       "        this.send_message(\"toolbar_button\", {name: name});\n",
       "    }\n",
       "};\n",
       "\n",
       "mpl.figure.prototype.toolbar_button_onmouseover = function(tooltip) {\n",
       "    this.message.textContent = tooltip;\n",
       "};\n",
       "mpl.toolbar_items = [[\"Home\", \"Reset original view\", \"fa fa-home icon-home\", \"home\"], [\"Back\", \"Back to previous view\", \"fa fa-arrow-left icon-arrow-left\", \"back\"], [\"Forward\", \"Forward to next view\", \"fa fa-arrow-right icon-arrow-right\", \"forward\"], [\"\", \"\", \"\", \"\"], [\"Pan\", \"Pan axes with left mouse, zoom with right\", \"fa fa-arrows icon-move\", \"pan\"], [\"Zoom\", \"Zoom to rectangle\", \"fa fa-square-o icon-check-empty\", \"zoom\"], [\"\", \"\", \"\", \"\"], [\"Download\", \"Download plot\", \"fa fa-floppy-o icon-save\", \"download\"]];\n",
       "\n",
       "mpl.extensions = [\"eps\", \"jpeg\", \"pdf\", \"png\", \"ps\", \"raw\", \"svg\", \"tif\"];\n",
       "\n",
       "mpl.default_extension = \"png\";var comm_websocket_adapter = function(comm) {\n",
       "    // Create a \"websocket\"-like object which calls the given IPython comm\n",
       "    // object with the appropriate methods. Currently this is a non binary\n",
       "    // socket, so there is still some room for performance tuning.\n",
       "    var ws = {};\n",
       "\n",
       "    ws.close = function() {\n",
       "        comm.close()\n",
       "    };\n",
       "    ws.send = function(m) {\n",
       "        //console.log('sending', m);\n",
       "        comm.send(m);\n",
       "    };\n",
       "    // Register the callback with on_msg.\n",
       "    comm.on_msg(function(msg) {\n",
       "        //console.log('receiving', msg['content']['data'], msg);\n",
       "        // Pass the mpl event to the overridden (by mpl) onmessage function.\n",
       "        ws.onmessage(msg['content']['data'])\n",
       "    });\n",
       "    return ws;\n",
       "}\n",
       "\n",
       "mpl.mpl_figure_comm = function(comm, msg) {\n",
       "    // This is the function which gets called when the mpl process\n",
       "    // starts-up an IPython Comm through the \"matplotlib\" channel.\n",
       "\n",
       "    var id = msg.content.data.id;\n",
       "    // Get hold of the div created by the display call when the Comm\n",
       "    // socket was opened in Python.\n",
       "    var element = $(\"#\" + id);\n",
       "    var ws_proxy = comm_websocket_adapter(comm)\n",
       "\n",
       "    function ondownload(figure, format) {\n",
       "        window.open(figure.imageObj.src);\n",
       "    }\n",
       "\n",
       "    var fig = new mpl.figure(id, ws_proxy,\n",
       "                           ondownload,\n",
       "                           element.get(0));\n",
       "\n",
       "    // Call onopen now - mpl needs it, as it is assuming we've passed it a real\n",
       "    // web socket which is closed, not our websocket->open comm proxy.\n",
       "    ws_proxy.onopen();\n",
       "\n",
       "    fig.parent_element = element.get(0);\n",
       "    fig.cell_info = mpl.find_output_cell(\"<div id='\" + id + \"'></div>\");\n",
       "    if (!fig.cell_info) {\n",
       "        console.error(\"Failed to find cell for figure\", id, fig);\n",
       "        return;\n",
       "    }\n",
       "\n",
       "    var output_index = fig.cell_info[2]\n",
       "    var cell = fig.cell_info[0];\n",
       "\n",
       "};\n",
       "\n",
       "mpl.figure.prototype.handle_close = function(fig, msg) {\n",
       "    var width = fig.canvas.width/mpl.ratio\n",
       "    fig.root.unbind('remove')\n",
       "\n",
       "    // Update the output cell to use the data from the current canvas.\n",
       "    fig.push_to_output();\n",
       "    var dataURL = fig.canvas.toDataURL();\n",
       "    // Re-enable the keyboard manager in IPython - without this line, in FF,\n",
       "    // the notebook keyboard shortcuts fail.\n",
       "    IPython.keyboard_manager.enable()\n",
       "    $(fig.parent_element).html('<img src=\"' + dataURL + '\" width=\"' + width + '\">');\n",
       "    fig.close_ws(fig, msg);\n",
       "}\n",
       "\n",
       "mpl.figure.prototype.close_ws = function(fig, msg){\n",
       "    fig.send_message('closing', msg);\n",
       "    // fig.ws.close()\n",
       "}\n",
       "\n",
       "mpl.figure.prototype.push_to_output = function(remove_interactive) {\n",
       "    // Turn the data on the canvas into data in the output cell.\n",
       "    var width = this.canvas.width/mpl.ratio\n",
       "    var dataURL = this.canvas.toDataURL();\n",
       "    this.cell_info[1]['text/html'] = '<img src=\"' + dataURL + '\" width=\"' + width + '\">';\n",
       "}\n",
       "\n",
       "mpl.figure.prototype.updated_canvas_event = function() {\n",
       "    // Tell IPython that the notebook contents must change.\n",
       "    IPython.notebook.set_dirty(true);\n",
       "    this.send_message(\"ack\", {});\n",
       "    var fig = this;\n",
       "    // Wait a second, then push the new image to the DOM so\n",
       "    // that it is saved nicely (might be nice to debounce this).\n",
       "    setTimeout(function () { fig.push_to_output() }, 1000);\n",
       "}\n",
       "\n",
       "mpl.figure.prototype._init_toolbar = function() {\n",
       "    var fig = this;\n",
       "\n",
       "    var nav_element = $('<div/>');\n",
       "    nav_element.attr('style', 'width: 100%');\n",
       "    this.root.append(nav_element);\n",
       "\n",
       "    // Define a callback function for later on.\n",
       "    function toolbar_event(event) {\n",
       "        return fig.toolbar_button_onclick(event['data']);\n",
       "    }\n",
       "    function toolbar_mouse_event(event) {\n",
       "        return fig.toolbar_button_onmouseover(event['data']);\n",
       "    }\n",
       "\n",
       "    for(var toolbar_ind in mpl.toolbar_items){\n",
       "        var name = mpl.toolbar_items[toolbar_ind][0];\n",
       "        var tooltip = mpl.toolbar_items[toolbar_ind][1];\n",
       "        var image = mpl.toolbar_items[toolbar_ind][2];\n",
       "        var method_name = mpl.toolbar_items[toolbar_ind][3];\n",
       "\n",
       "        if (!name) { continue; };\n",
       "\n",
       "        var button = $('<button class=\"btn btn-default\" href=\"#\" title=\"' + name + '\"><i class=\"fa ' + image + ' fa-lg\"></i></button>');\n",
       "        button.click(method_name, toolbar_event);\n",
       "        button.mouseover(tooltip, toolbar_mouse_event);\n",
       "        nav_element.append(button);\n",
       "    }\n",
       "\n",
       "    // Add the status bar.\n",
       "    var status_bar = $('<span class=\"mpl-message\" style=\"text-align:right; float: right;\"/>');\n",
       "    nav_element.append(status_bar);\n",
       "    this.message = status_bar[0];\n",
       "\n",
       "    // Add the close button to the window.\n",
       "    var buttongrp = $('<div class=\"btn-group inline pull-right\"></div>');\n",
       "    var button = $('<button class=\"btn btn-mini btn-primary\" href=\"#\" title=\"Stop Interaction\"><i class=\"fa fa-power-off icon-remove icon-large\"></i></button>');\n",
       "    button.click(function (evt) { fig.handle_close(fig, {}); } );\n",
       "    button.mouseover('Stop Interaction', toolbar_mouse_event);\n",
       "    buttongrp.append(button);\n",
       "    var titlebar = this.root.find($('.ui-dialog-titlebar'));\n",
       "    titlebar.prepend(buttongrp);\n",
       "}\n",
       "\n",
       "mpl.figure.prototype._root_extra_style = function(el){\n",
       "    var fig = this\n",
       "    el.on(\"remove\", function(){\n",
       "\tfig.close_ws(fig, {});\n",
       "    });\n",
       "}\n",
       "\n",
       "mpl.figure.prototype._canvas_extra_style = function(el){\n",
       "    // this is important to make the div 'focusable\n",
       "    el.attr('tabindex', 0)\n",
       "    // reach out to IPython and tell the keyboard manager to turn it's self\n",
       "    // off when our div gets focus\n",
       "\n",
       "    // location in version 3\n",
       "    if (IPython.notebook.keyboard_manager) {\n",
       "        IPython.notebook.keyboard_manager.register_events(el);\n",
       "    }\n",
       "    else {\n",
       "        // location in version 2\n",
       "        IPython.keyboard_manager.register_events(el);\n",
       "    }\n",
       "\n",
       "}\n",
       "\n",
       "mpl.figure.prototype._key_event_extra = function(event, name) {\n",
       "    var manager = IPython.notebook.keyboard_manager;\n",
       "    if (!manager)\n",
       "        manager = IPython.keyboard_manager;\n",
       "\n",
       "    // Check for shift+enter\n",
       "    if (event.shiftKey && event.which == 13) {\n",
       "        this.canvas_div.blur();\n",
       "        // select the cell after this one\n",
       "        var index = IPython.notebook.find_cell_index(this.cell_info[0]);\n",
       "        IPython.notebook.select(index + 1);\n",
       "    }\n",
       "}\n",
       "\n",
       "mpl.figure.prototype.handle_save = function(fig, msg) {\n",
       "    fig.ondownload(fig, null);\n",
       "}\n",
       "\n",
       "\n",
       "mpl.find_output_cell = function(html_output) {\n",
       "    // Return the cell and output element which can be found *uniquely* in the notebook.\n",
       "    // Note - this is a bit hacky, but it is done because the \"notebook_saving.Notebook\"\n",
       "    // IPython event is triggered only after the cells have been serialised, which for\n",
       "    // our purposes (turning an active figure into a static one), is too late.\n",
       "    var cells = IPython.notebook.get_cells();\n",
       "    var ncells = cells.length;\n",
       "    for (var i=0; i<ncells; i++) {\n",
       "        var cell = cells[i];\n",
       "        if (cell.cell_type === 'code'){\n",
       "            for (var j=0; j<cell.output_area.outputs.length; j++) {\n",
       "                var data = cell.output_area.outputs[j];\n",
       "                if (data.data) {\n",
       "                    // IPython >= 3 moved mimebundle to data attribute of output\n",
       "                    data = data.data;\n",
       "                }\n",
       "                if (data['text/html'] == html_output) {\n",
       "                    return [cell, data, j];\n",
       "                }\n",
       "            }\n",
       "        }\n",
       "    }\n",
       "}\n",
       "\n",
       "// Register the function which deals with the matplotlib target/channel.\n",
       "// The kernel may be null if the page has been refreshed.\n",
       "if (IPython.notebook.kernel != null) {\n",
       "    IPython.notebook.kernel.comm_manager.register_target('matplotlib', mpl.mpl_figure_comm);\n",
       "}\n"
      ],
      "text/plain": [
       "<IPython.core.display.Javascript object>"
      ]
     },
     "metadata": {},
     "output_type": "display_data"
    },
    {
     "data": {
      "text/html": [
       "<img src=\"data:image/png;base64,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\" width=\"639.999990463257\">"
      ],
      "text/plain": [
       "<IPython.core.display.HTML object>"
      ]
     },
     "metadata": {},
     "output_type": "display_data"
    },
    {
     "data": {
      "application/vnd.jupyter.widget-view+json": {
       "model_id": "2d41f1d2388846948512c3044c178c95",
       "version_major": 2,
       "version_minor": 0
      },
      "text/plain": [
       "interactive(children=(FloatSlider(value=1.0, description='interes', max=12.0, min=0.01, step=0.2), FloatSlider…"
      ]
     },
     "metadata": {},
     "output_type": "display_data"
    }
   ],
   "source": [
    "fig = plt.figure(1)\n",
    "ax = fig.add_subplot(111)\n",
    "\n",
    "def plotting1(interes = 1, ahorro = 1, depositoInicial = 1):\n",
    "    \n",
    "    y1 = f1(interes, ahorro, depositoInicial, t)\n",
    "    ax.clear()\n",
    "    \n",
    "    if interes*depositoInicial + ahorro > 0:\n",
    "        ax.plot(t,y1, label = r\"$y(t)=e^{at}y(0) + q\\left(\\frac{e^{at}-1}{a}\\right)$\", c = \"g\", lw = 2.5)\n",
    "    else:\n",
    "        ax.plot(t,y1, label = r\"$y(t)=e^{at}y(0) + q\\left(\\frac{e^{at}-1}{a}\\right)$\", c = \"b\", lw = 2.5)\n",
    "    \n",
    "    ax.spines['left'].set_position(('data', 0))\n",
    "    ax.spines['bottom'].set_position(('data', 0))\n",
    "    ax.spines['right'].set_color('none')\n",
    "    ax.spines['top'].set_color('none')\n",
    "    ax.set_title(\"Cuenta de ahorro con tasa de interés fija positiva\")\n",
    "    plt.legend()\n",
    "    plt.grid()\n",
    "    print(f1(interes, ahorro, depositoInicial, 0))\n",
    "    print(t,y1)\n",
    "    \n",
    "controles1 = wg.interactive(plotting1, interes = (0.01,12.0,0.2), ahorro = (-12.0, 12.0,0.2), depositoInicial = (0, 12.0,0.2))\n",
    "controles1"
   ]
  },
  {
   "cell_type": "code",
   "execution_count": 3,
   "metadata": {
    "slideshow": {
     "slide_type": "subslide"
    }
   },
   "outputs": [
    {
     "data": {
      "application/javascript": [
       "/* Put everything inside the global mpl namespace */\n",
       "window.mpl = {};\n",
       "\n",
       "\n",
       "mpl.get_websocket_type = function() {\n",
       "    if (typeof(WebSocket) !== 'undefined') {\n",
       "        return WebSocket;\n",
       "    } else if (typeof(MozWebSocket) !== 'undefined') {\n",
       "        return MozWebSocket;\n",
       "    } else {\n",
       "        alert('Your browser does not have WebSocket support. ' +\n",
       "              'Please try Chrome, Safari or Firefox ≥ 6. ' +\n",
       "              'Firefox 4 and 5 are also supported but you ' +\n",
       "              'have to enable WebSockets in about:config.');\n",
       "    };\n",
       "}\n",
       "\n",
       "mpl.figure = function(figure_id, websocket, ondownload, parent_element) {\n",
       "    this.id = figure_id;\n",
       "\n",
       "    this.ws = websocket;\n",
       "\n",
       "    this.supports_binary = (this.ws.binaryType != undefined);\n",
       "\n",
       "    if (!this.supports_binary) {\n",
       "        var warnings = document.getElementById(\"mpl-warnings\");\n",
       "        if (warnings) {\n",
       "            warnings.style.display = 'block';\n",
       "            warnings.textContent = (\n",
       "                \"This browser does not support binary websocket messages. \" +\n",
       "                    \"Performance may be slow.\");\n",
       "        }\n",
       "    }\n",
       "\n",
       "    this.imageObj = new Image();\n",
       "\n",
       "    this.context = undefined;\n",
       "    this.message = undefined;\n",
       "    this.canvas = undefined;\n",
       "    this.rubberband_canvas = undefined;\n",
       "    this.rubberband_context = undefined;\n",
       "    this.format_dropdown = undefined;\n",
       "\n",
       "    this.image_mode = 'full';\n",
       "\n",
       "    this.root = $('<div/>');\n",
       "    this._root_extra_style(this.root)\n",
       "    this.root.attr('style', 'display: inline-block');\n",
       "\n",
       "    $(parent_element).append(this.root);\n",
       "\n",
       "    this._init_header(this);\n",
       "    this._init_canvas(this);\n",
       "    this._init_toolbar(this);\n",
       "\n",
       "    var fig = this;\n",
       "\n",
       "    this.waiting = false;\n",
       "\n",
       "    this.ws.onopen =  function () {\n",
       "            fig.send_message(\"supports_binary\", {value: fig.supports_binary});\n",
       "            fig.send_message(\"send_image_mode\", {});\n",
       "            if (mpl.ratio != 1) {\n",
       "                fig.send_message(\"set_dpi_ratio\", {'dpi_ratio': mpl.ratio});\n",
       "            }\n",
       "            fig.send_message(\"refresh\", {});\n",
       "        }\n",
       "\n",
       "    this.imageObj.onload = function() {\n",
       "            if (fig.image_mode == 'full') {\n",
       "                // Full images could contain transparency (where diff images\n",
       "                // almost always do), so we need to clear the canvas so that\n",
       "                // there is no ghosting.\n",
       "                fig.context.clearRect(0, 0, fig.canvas.width, fig.canvas.height);\n",
       "            }\n",
       "            fig.context.drawImage(fig.imageObj, 0, 0);\n",
       "        };\n",
       "\n",
       "    this.imageObj.onunload = function() {\n",
       "        fig.ws.close();\n",
       "    }\n",
       "\n",
       "    this.ws.onmessage = this._make_on_message_function(this);\n",
       "\n",
       "    this.ondownload = ondownload;\n",
       "}\n",
       "\n",
       "mpl.figure.prototype._init_header = function() {\n",
       "    var titlebar = $(\n",
       "        '<div class=\"ui-dialog-titlebar ui-widget-header ui-corner-all ' +\n",
       "        'ui-helper-clearfix\"/>');\n",
       "    var titletext = $(\n",
       "        '<div class=\"ui-dialog-title\" style=\"width: 100%; ' +\n",
       "        'text-align: center; padding: 3px;\"/>');\n",
       "    titlebar.append(titletext)\n",
       "    this.root.append(titlebar);\n",
       "    this.header = titletext[0];\n",
       "}\n",
       "\n",
       "\n",
       "\n",
       "mpl.figure.prototype._canvas_extra_style = function(canvas_div) {\n",
       "\n",
       "}\n",
       "\n",
       "\n",
       "mpl.figure.prototype._root_extra_style = function(canvas_div) {\n",
       "\n",
       "}\n",
       "\n",
       "mpl.figure.prototype._init_canvas = function() {\n",
       "    var fig = this;\n",
       "\n",
       "    var canvas_div = $('<div/>');\n",
       "\n",
       "    canvas_div.attr('style', 'position: relative; clear: both; outline: 0');\n",
       "\n",
       "    function canvas_keyboard_event(event) {\n",
       "        return fig.key_event(event, event['data']);\n",
       "    }\n",
       "\n",
       "    canvas_div.keydown('key_press', canvas_keyboard_event);\n",
       "    canvas_div.keyup('key_release', canvas_keyboard_event);\n",
       "    this.canvas_div = canvas_div\n",
       "    this._canvas_extra_style(canvas_div)\n",
       "    this.root.append(canvas_div);\n",
       "\n",
       "    var canvas = $('<canvas/>');\n",
       "    canvas.addClass('mpl-canvas');\n",
       "    canvas.attr('style', \"left: 0; top: 0; z-index: 0; outline: 0\")\n",
       "\n",
       "    this.canvas = canvas[0];\n",
       "    this.context = canvas[0].getContext(\"2d\");\n",
       "\n",
       "    var backingStore = this.context.backingStorePixelRatio ||\n",
       "\tthis.context.webkitBackingStorePixelRatio ||\n",
       "\tthis.context.mozBackingStorePixelRatio ||\n",
       "\tthis.context.msBackingStorePixelRatio ||\n",
       "\tthis.context.oBackingStorePixelRatio ||\n",
       "\tthis.context.backingStorePixelRatio || 1;\n",
       "\n",
       "    mpl.ratio = (window.devicePixelRatio || 1) / backingStore;\n",
       "\n",
       "    var rubberband = $('<canvas/>');\n",
       "    rubberband.attr('style', \"position: absolute; left: 0; top: 0; z-index: 1;\")\n",
       "\n",
       "    var pass_mouse_events = true;\n",
       "\n",
       "    canvas_div.resizable({\n",
       "        start: function(event, ui) {\n",
       "            pass_mouse_events = false;\n",
       "        },\n",
       "        resize: function(event, ui) {\n",
       "            fig.request_resize(ui.size.width, ui.size.height);\n",
       "        },\n",
       "        stop: function(event, ui) {\n",
       "            pass_mouse_events = true;\n",
       "            fig.request_resize(ui.size.width, ui.size.height);\n",
       "        },\n",
       "    });\n",
       "\n",
       "    function mouse_event_fn(event) {\n",
       "        if (pass_mouse_events)\n",
       "            return fig.mouse_event(event, event['data']);\n",
       "    }\n",
       "\n",
       "    rubberband.mousedown('button_press', mouse_event_fn);\n",
       "    rubberband.mouseup('button_release', mouse_event_fn);\n",
       "    // Throttle sequential mouse events to 1 every 20ms.\n",
       "    rubberband.mousemove('motion_notify', mouse_event_fn);\n",
       "\n",
       "    rubberband.mouseenter('figure_enter', mouse_event_fn);\n",
       "    rubberband.mouseleave('figure_leave', mouse_event_fn);\n",
       "\n",
       "    canvas_div.on(\"wheel\", function (event) {\n",
       "        event = event.originalEvent;\n",
       "        event['data'] = 'scroll'\n",
       "        if (event.deltaY < 0) {\n",
       "            event.step = 1;\n",
       "        } else {\n",
       "            event.step = -1;\n",
       "        }\n",
       "        mouse_event_fn(event);\n",
       "    });\n",
       "\n",
       "    canvas_div.append(canvas);\n",
       "    canvas_div.append(rubberband);\n",
       "\n",
       "    this.rubberband = rubberband;\n",
       "    this.rubberband_canvas = rubberband[0];\n",
       "    this.rubberband_context = rubberband[0].getContext(\"2d\");\n",
       "    this.rubberband_context.strokeStyle = \"#000000\";\n",
       "\n",
       "    this._resize_canvas = function(width, height) {\n",
       "        // Keep the size of the canvas, canvas container, and rubber band\n",
       "        // canvas in synch.\n",
       "        canvas_div.css('width', width)\n",
       "        canvas_div.css('height', height)\n",
       "\n",
       "        canvas.attr('width', width * mpl.ratio);\n",
       "        canvas.attr('height', height * mpl.ratio);\n",
       "        canvas.attr('style', 'width: ' + width + 'px; height: ' + height + 'px;');\n",
       "\n",
       "        rubberband.attr('width', width);\n",
       "        rubberband.attr('height', height);\n",
       "    }\n",
       "\n",
       "    // Set the figure to an initial 600x600px, this will subsequently be updated\n",
       "    // upon first draw.\n",
       "    this._resize_canvas(600, 600);\n",
       "\n",
       "    // Disable right mouse context menu.\n",
       "    $(this.rubberband_canvas).bind(\"contextmenu\",function(e){\n",
       "        return false;\n",
       "    });\n",
       "\n",
       "    function set_focus () {\n",
       "        canvas.focus();\n",
       "        canvas_div.focus();\n",
       "    }\n",
       "\n",
       "    window.setTimeout(set_focus, 100);\n",
       "}\n",
       "\n",
       "mpl.figure.prototype._init_toolbar = function() {\n",
       "    var fig = this;\n",
       "\n",
       "    var nav_element = $('<div/>');\n",
       "    nav_element.attr('style', 'width: 100%');\n",
       "    this.root.append(nav_element);\n",
       "\n",
       "    // Define a callback function for later on.\n",
       "    function toolbar_event(event) {\n",
       "        return fig.toolbar_button_onclick(event['data']);\n",
       "    }\n",
       "    function toolbar_mouse_event(event) {\n",
       "        return fig.toolbar_button_onmouseover(event['data']);\n",
       "    }\n",
       "\n",
       "    for(var toolbar_ind in mpl.toolbar_items) {\n",
       "        var name = mpl.toolbar_items[toolbar_ind][0];\n",
       "        var tooltip = mpl.toolbar_items[toolbar_ind][1];\n",
       "        var image = mpl.toolbar_items[toolbar_ind][2];\n",
       "        var method_name = mpl.toolbar_items[toolbar_ind][3];\n",
       "\n",
       "        if (!name) {\n",
       "            // put a spacer in here.\n",
       "            continue;\n",
       "        }\n",
       "        var button = $('<button/>');\n",
       "        button.addClass('ui-button ui-widget ui-state-default ui-corner-all ' +\n",
       "                        'ui-button-icon-only');\n",
       "        button.attr('role', 'button');\n",
       "        button.attr('aria-disabled', 'false');\n",
       "        button.click(method_name, toolbar_event);\n",
       "        button.mouseover(tooltip, toolbar_mouse_event);\n",
       "\n",
       "        var icon_img = $('<span/>');\n",
       "        icon_img.addClass('ui-button-icon-primary ui-icon');\n",
       "        icon_img.addClass(image);\n",
       "        icon_img.addClass('ui-corner-all');\n",
       "\n",
       "        var tooltip_span = $('<span/>');\n",
       "        tooltip_span.addClass('ui-button-text');\n",
       "        tooltip_span.html(tooltip);\n",
       "\n",
       "        button.append(icon_img);\n",
       "        button.append(tooltip_span);\n",
       "\n",
       "        nav_element.append(button);\n",
       "    }\n",
       "\n",
       "    var fmt_picker_span = $('<span/>');\n",
       "\n",
       "    var fmt_picker = $('<select/>');\n",
       "    fmt_picker.addClass('mpl-toolbar-option ui-widget ui-widget-content');\n",
       "    fmt_picker_span.append(fmt_picker);\n",
       "    nav_element.append(fmt_picker_span);\n",
       "    this.format_dropdown = fmt_picker[0];\n",
       "\n",
       "    for (var ind in mpl.extensions) {\n",
       "        var fmt = mpl.extensions[ind];\n",
       "        var option = $(\n",
       "            '<option/>', {selected: fmt === mpl.default_extension}).html(fmt);\n",
       "        fmt_picker.append(option);\n",
       "    }\n",
       "\n",
       "    // Add hover states to the ui-buttons\n",
       "    $( \".ui-button\" ).hover(\n",
       "        function() { $(this).addClass(\"ui-state-hover\");},\n",
       "        function() { $(this).removeClass(\"ui-state-hover\");}\n",
       "    );\n",
       "\n",
       "    var status_bar = $('<span class=\"mpl-message\"/>');\n",
       "    nav_element.append(status_bar);\n",
       "    this.message = status_bar[0];\n",
       "}\n",
       "\n",
       "mpl.figure.prototype.request_resize = function(x_pixels, y_pixels) {\n",
       "    // Request matplotlib to resize the figure. Matplotlib will then trigger a resize in the client,\n",
       "    // which will in turn request a refresh of the image.\n",
       "    this.send_message('resize', {'width': x_pixels, 'height': y_pixels});\n",
       "}\n",
       "\n",
       "mpl.figure.prototype.send_message = function(type, properties) {\n",
       "    properties['type'] = type;\n",
       "    properties['figure_id'] = this.id;\n",
       "    this.ws.send(JSON.stringify(properties));\n",
       "}\n",
       "\n",
       "mpl.figure.prototype.send_draw_message = function() {\n",
       "    if (!this.waiting) {\n",
       "        this.waiting = true;\n",
       "        this.ws.send(JSON.stringify({type: \"draw\", figure_id: this.id}));\n",
       "    }\n",
       "}\n",
       "\n",
       "\n",
       "mpl.figure.prototype.handle_save = function(fig, msg) {\n",
       "    var format_dropdown = fig.format_dropdown;\n",
       "    var format = format_dropdown.options[format_dropdown.selectedIndex].value;\n",
       "    fig.ondownload(fig, format);\n",
       "}\n",
       "\n",
       "\n",
       "mpl.figure.prototype.handle_resize = function(fig, msg) {\n",
       "    var size = msg['size'];\n",
       "    if (size[0] != fig.canvas.width || size[1] != fig.canvas.height) {\n",
       "        fig._resize_canvas(size[0], size[1]);\n",
       "        fig.send_message(\"refresh\", {});\n",
       "    };\n",
       "}\n",
       "\n",
       "mpl.figure.prototype.handle_rubberband = function(fig, msg) {\n",
       "    var x0 = msg['x0'] / mpl.ratio;\n",
       "    var y0 = (fig.canvas.height - msg['y0']) / mpl.ratio;\n",
       "    var x1 = msg['x1'] / mpl.ratio;\n",
       "    var y1 = (fig.canvas.height - msg['y1']) / mpl.ratio;\n",
       "    x0 = Math.floor(x0) + 0.5;\n",
       "    y0 = Math.floor(y0) + 0.5;\n",
       "    x1 = Math.floor(x1) + 0.5;\n",
       "    y1 = Math.floor(y1) + 0.5;\n",
       "    var min_x = Math.min(x0, x1);\n",
       "    var min_y = Math.min(y0, y1);\n",
       "    var width = Math.abs(x1 - x0);\n",
       "    var height = Math.abs(y1 - y0);\n",
       "\n",
       "    fig.rubberband_context.clearRect(\n",
       "        0, 0, fig.canvas.width / mpl.ratio, fig.canvas.height / mpl.ratio);\n",
       "\n",
       "    fig.rubberband_context.strokeRect(min_x, min_y, width, height);\n",
       "}\n",
       "\n",
       "mpl.figure.prototype.handle_figure_label = function(fig, msg) {\n",
       "    // Updates the figure title.\n",
       "    fig.header.textContent = msg['label'];\n",
       "}\n",
       "\n",
       "mpl.figure.prototype.handle_cursor = function(fig, msg) {\n",
       "    var cursor = msg['cursor'];\n",
       "    switch(cursor)\n",
       "    {\n",
       "    case 0:\n",
       "        cursor = 'pointer';\n",
       "        break;\n",
       "    case 1:\n",
       "        cursor = 'default';\n",
       "        break;\n",
       "    case 2:\n",
       "        cursor = 'crosshair';\n",
       "        break;\n",
       "    case 3:\n",
       "        cursor = 'move';\n",
       "        break;\n",
       "    }\n",
       "    fig.rubberband_canvas.style.cursor = cursor;\n",
       "}\n",
       "\n",
       "mpl.figure.prototype.handle_message = function(fig, msg) {\n",
       "    fig.message.textContent = msg['message'];\n",
       "}\n",
       "\n",
       "mpl.figure.prototype.handle_draw = function(fig, msg) {\n",
       "    // Request the server to send over a new figure.\n",
       "    fig.send_draw_message();\n",
       "}\n",
       "\n",
       "mpl.figure.prototype.handle_image_mode = function(fig, msg) {\n",
       "    fig.image_mode = msg['mode'];\n",
       "}\n",
       "\n",
       "mpl.figure.prototype.updated_canvas_event = function() {\n",
       "    // Called whenever the canvas gets updated.\n",
       "    this.send_message(\"ack\", {});\n",
       "}\n",
       "\n",
       "// A function to construct a web socket function for onmessage handling.\n",
       "// Called in the figure constructor.\n",
       "mpl.figure.prototype._make_on_message_function = function(fig) {\n",
       "    return function socket_on_message(evt) {\n",
       "        if (evt.data instanceof Blob) {\n",
       "            /* FIXME: We get \"Resource interpreted as Image but\n",
       "             * transferred with MIME type text/plain:\" errors on\n",
       "             * Chrome.  But how to set the MIME type?  It doesn't seem\n",
       "             * to be part of the websocket stream */\n",
       "            evt.data.type = \"image/png\";\n",
       "\n",
       "            /* Free the memory for the previous frames */\n",
       "            if (fig.imageObj.src) {\n",
       "                (window.URL || window.webkitURL).revokeObjectURL(\n",
       "                    fig.imageObj.src);\n",
       "            }\n",
       "\n",
       "            fig.imageObj.src = (window.URL || window.webkitURL).createObjectURL(\n",
       "                evt.data);\n",
       "            fig.updated_canvas_event();\n",
       "            fig.waiting = false;\n",
       "            return;\n",
       "        }\n",
       "        else if (typeof evt.data === 'string' && evt.data.slice(0, 21) == \"data:image/png;base64\") {\n",
       "            fig.imageObj.src = evt.data;\n",
       "            fig.updated_canvas_event();\n",
       "            fig.waiting = false;\n",
       "            return;\n",
       "        }\n",
       "\n",
       "        var msg = JSON.parse(evt.data);\n",
       "        var msg_type = msg['type'];\n",
       "\n",
       "        // Call the  \"handle_{type}\" callback, which takes\n",
       "        // the figure and JSON message as its only arguments.\n",
       "        try {\n",
       "            var callback = fig[\"handle_\" + msg_type];\n",
       "        } catch (e) {\n",
       "            console.log(\"No handler for the '\" + msg_type + \"' message type: \", msg);\n",
       "            return;\n",
       "        }\n",
       "\n",
       "        if (callback) {\n",
       "            try {\n",
       "                // console.log(\"Handling '\" + msg_type + \"' message: \", msg);\n",
       "                callback(fig, msg);\n",
       "            } catch (e) {\n",
       "                console.log(\"Exception inside the 'handler_\" + msg_type + \"' callback:\", e, e.stack, msg);\n",
       "            }\n",
       "        }\n",
       "    };\n",
       "}\n",
       "\n",
       "// from http://stackoverflow.com/questions/1114465/getting-mouse-location-in-canvas\n",
       "mpl.findpos = function(e) {\n",
       "    //this section is from http://www.quirksmode.org/js/events_properties.html\n",
       "    var targ;\n",
       "    if (!e)\n",
       "        e = window.event;\n",
       "    if (e.target)\n",
       "        targ = e.target;\n",
       "    else if (e.srcElement)\n",
       "        targ = e.srcElement;\n",
       "    if (targ.nodeType == 3) // defeat Safari bug\n",
       "        targ = targ.parentNode;\n",
       "\n",
       "    // jQuery normalizes the pageX and pageY\n",
       "    // pageX,Y are the mouse positions relative to the document\n",
       "    // offset() returns the position of the element relative to the document\n",
       "    var x = e.pageX - $(targ).offset().left;\n",
       "    var y = e.pageY - $(targ).offset().top;\n",
       "\n",
       "    return {\"x\": x, \"y\": y};\n",
       "};\n",
       "\n",
       "/*\n",
       " * return a copy of an object with only non-object keys\n",
       " * we need this to avoid circular references\n",
       " * http://stackoverflow.com/a/24161582/3208463\n",
       " */\n",
       "function simpleKeys (original) {\n",
       "  return Object.keys(original).reduce(function (obj, key) {\n",
       "    if (typeof original[key] !== 'object')\n",
       "        obj[key] = original[key]\n",
       "    return obj;\n",
       "  }, {});\n",
       "}\n",
       "\n",
       "mpl.figure.prototype.mouse_event = function(event, name) {\n",
       "    var canvas_pos = mpl.findpos(event)\n",
       "\n",
       "    if (name === 'button_press')\n",
       "    {\n",
       "        this.canvas.focus();\n",
       "        this.canvas_div.focus();\n",
       "    }\n",
       "\n",
       "    var x = canvas_pos.x * mpl.ratio;\n",
       "    var y = canvas_pos.y * mpl.ratio;\n",
       "\n",
       "    this.send_message(name, {x: x, y: y, button: event.button,\n",
       "                             step: event.step,\n",
       "                             guiEvent: simpleKeys(event)});\n",
       "\n",
       "    /* This prevents the web browser from automatically changing to\n",
       "     * the text insertion cursor when the button is pressed.  We want\n",
       "     * to control all of the cursor setting manually through the\n",
       "     * 'cursor' event from matplotlib */\n",
       "    event.preventDefault();\n",
       "    return false;\n",
       "}\n",
       "\n",
       "mpl.figure.prototype._key_event_extra = function(event, name) {\n",
       "    // Handle any extra behaviour associated with a key event\n",
       "}\n",
       "\n",
       "mpl.figure.prototype.key_event = function(event, name) {\n",
       "\n",
       "    // Prevent repeat events\n",
       "    if (name == 'key_press')\n",
       "    {\n",
       "        if (event.which === this._key)\n",
       "            return;\n",
       "        else\n",
       "            this._key = event.which;\n",
       "    }\n",
       "    if (name == 'key_release')\n",
       "        this._key = null;\n",
       "\n",
       "    var value = '';\n",
       "    if (event.ctrlKey && event.which != 17)\n",
       "        value += \"ctrl+\";\n",
       "    if (event.altKey && event.which != 18)\n",
       "        value += \"alt+\";\n",
       "    if (event.shiftKey && event.which != 16)\n",
       "        value += \"shift+\";\n",
       "\n",
       "    value += 'k';\n",
       "    value += event.which.toString();\n",
       "\n",
       "    this._key_event_extra(event, name);\n",
       "\n",
       "    this.send_message(name, {key: value,\n",
       "                             guiEvent: simpleKeys(event)});\n",
       "    return false;\n",
       "}\n",
       "\n",
       "mpl.figure.prototype.toolbar_button_onclick = function(name) {\n",
       "    if (name == 'download') {\n",
       "        this.handle_save(this, null);\n",
       "    } else {\n",
       "        this.send_message(\"toolbar_button\", {name: name});\n",
       "    }\n",
       "};\n",
       "\n",
       "mpl.figure.prototype.toolbar_button_onmouseover = function(tooltip) {\n",
       "    this.message.textContent = tooltip;\n",
       "};\n",
       "mpl.toolbar_items = [[\"Home\", \"Reset original view\", \"fa fa-home icon-home\", \"home\"], [\"Back\", \"Back to previous view\", \"fa fa-arrow-left icon-arrow-left\", \"back\"], [\"Forward\", \"Forward to next view\", \"fa fa-arrow-right icon-arrow-right\", \"forward\"], [\"\", \"\", \"\", \"\"], [\"Pan\", \"Pan axes with left mouse, zoom with right\", \"fa fa-arrows icon-move\", \"pan\"], [\"Zoom\", \"Zoom to rectangle\", \"fa fa-square-o icon-check-empty\", \"zoom\"], [\"\", \"\", \"\", \"\"], [\"Download\", \"Download plot\", \"fa fa-floppy-o icon-save\", \"download\"]];\n",
       "\n",
       "mpl.extensions = [\"eps\", \"jpeg\", \"pdf\", \"png\", \"ps\", \"raw\", \"svg\", \"tif\"];\n",
       "\n",
       "mpl.default_extension = \"png\";var comm_websocket_adapter = function(comm) {\n",
       "    // Create a \"websocket\"-like object which calls the given IPython comm\n",
       "    // object with the appropriate methods. Currently this is a non binary\n",
       "    // socket, so there is still some room for performance tuning.\n",
       "    var ws = {};\n",
       "\n",
       "    ws.close = function() {\n",
       "        comm.close()\n",
       "    };\n",
       "    ws.send = function(m) {\n",
       "        //console.log('sending', m);\n",
       "        comm.send(m);\n",
       "    };\n",
       "    // Register the callback with on_msg.\n",
       "    comm.on_msg(function(msg) {\n",
       "        //console.log('receiving', msg['content']['data'], msg);\n",
       "        // Pass the mpl event to the overridden (by mpl) onmessage function.\n",
       "        ws.onmessage(msg['content']['data'])\n",
       "    });\n",
       "    return ws;\n",
       "}\n",
       "\n",
       "mpl.mpl_figure_comm = function(comm, msg) {\n",
       "    // This is the function which gets called when the mpl process\n",
       "    // starts-up an IPython Comm through the \"matplotlib\" channel.\n",
       "\n",
       "    var id = msg.content.data.id;\n",
       "    // Get hold of the div created by the display call when the Comm\n",
       "    // socket was opened in Python.\n",
       "    var element = $(\"#\" + id);\n",
       "    var ws_proxy = comm_websocket_adapter(comm)\n",
       "\n",
       "    function ondownload(figure, format) {\n",
       "        window.open(figure.imageObj.src);\n",
       "    }\n",
       "\n",
       "    var fig = new mpl.figure(id, ws_proxy,\n",
       "                           ondownload,\n",
       "                           element.get(0));\n",
       "\n",
       "    // Call onopen now - mpl needs it, as it is assuming we've passed it a real\n",
       "    // web socket which is closed, not our websocket->open comm proxy.\n",
       "    ws_proxy.onopen();\n",
       "\n",
       "    fig.parent_element = element.get(0);\n",
       "    fig.cell_info = mpl.find_output_cell(\"<div id='\" + id + \"'></div>\");\n",
       "    if (!fig.cell_info) {\n",
       "        console.error(\"Failed to find cell for figure\", id, fig);\n",
       "        return;\n",
       "    }\n",
       "\n",
       "    var output_index = fig.cell_info[2]\n",
       "    var cell = fig.cell_info[0];\n",
       "\n",
       "};\n",
       "\n",
       "mpl.figure.prototype.handle_close = function(fig, msg) {\n",
       "    var width = fig.canvas.width/mpl.ratio\n",
       "    fig.root.unbind('remove')\n",
       "\n",
       "    // Update the output cell to use the data from the current canvas.\n",
       "    fig.push_to_output();\n",
       "    var dataURL = fig.canvas.toDataURL();\n",
       "    // Re-enable the keyboard manager in IPython - without this line, in FF,\n",
       "    // the notebook keyboard shortcuts fail.\n",
       "    IPython.keyboard_manager.enable()\n",
       "    $(fig.parent_element).html('<img src=\"' + dataURL + '\" width=\"' + width + '\">');\n",
       "    fig.close_ws(fig, msg);\n",
       "}\n",
       "\n",
       "mpl.figure.prototype.close_ws = function(fig, msg){\n",
       "    fig.send_message('closing', msg);\n",
       "    // fig.ws.close()\n",
       "}\n",
       "\n",
       "mpl.figure.prototype.push_to_output = function(remove_interactive) {\n",
       "    // Turn the data on the canvas into data in the output cell.\n",
       "    var width = this.canvas.width/mpl.ratio\n",
       "    var dataURL = this.canvas.toDataURL();\n",
       "    this.cell_info[1]['text/html'] = '<img src=\"' + dataURL + '\" width=\"' + width + '\">';\n",
       "}\n",
       "\n",
       "mpl.figure.prototype.updated_canvas_event = function() {\n",
       "    // Tell IPython that the notebook contents must change.\n",
       "    IPython.notebook.set_dirty(true);\n",
       "    this.send_message(\"ack\", {});\n",
       "    var fig = this;\n",
       "    // Wait a second, then push the new image to the DOM so\n",
       "    // that it is saved nicely (might be nice to debounce this).\n",
       "    setTimeout(function () { fig.push_to_output() }, 1000);\n",
       "}\n",
       "\n",
       "mpl.figure.prototype._init_toolbar = function() {\n",
       "    var fig = this;\n",
       "\n",
       "    var nav_element = $('<div/>');\n",
       "    nav_element.attr('style', 'width: 100%');\n",
       "    this.root.append(nav_element);\n",
       "\n",
       "    // Define a callback function for later on.\n",
       "    function toolbar_event(event) {\n",
       "        return fig.toolbar_button_onclick(event['data']);\n",
       "    }\n",
       "    function toolbar_mouse_event(event) {\n",
       "        return fig.toolbar_button_onmouseover(event['data']);\n",
       "    }\n",
       "\n",
       "    for(var toolbar_ind in mpl.toolbar_items){\n",
       "        var name = mpl.toolbar_items[toolbar_ind][0];\n",
       "        var tooltip = mpl.toolbar_items[toolbar_ind][1];\n",
       "        var image = mpl.toolbar_items[toolbar_ind][2];\n",
       "        var method_name = mpl.toolbar_items[toolbar_ind][3];\n",
       "\n",
       "        if (!name) { continue; };\n",
       "\n",
       "        var button = $('<button class=\"btn btn-default\" href=\"#\" title=\"' + name + '\"><i class=\"fa ' + image + ' fa-lg\"></i></button>');\n",
       "        button.click(method_name, toolbar_event);\n",
       "        button.mouseover(tooltip, toolbar_mouse_event);\n",
       "        nav_element.append(button);\n",
       "    }\n",
       "\n",
       "    // Add the status bar.\n",
       "    var status_bar = $('<span class=\"mpl-message\" style=\"text-align:right; float: right;\"/>');\n",
       "    nav_element.append(status_bar);\n",
       "    this.message = status_bar[0];\n",
       "\n",
       "    // Add the close button to the window.\n",
       "    var buttongrp = $('<div class=\"btn-group inline pull-right\"></div>');\n",
       "    var button = $('<button class=\"btn btn-mini btn-primary\" href=\"#\" title=\"Stop Interaction\"><i class=\"fa fa-power-off icon-remove icon-large\"></i></button>');\n",
       "    button.click(function (evt) { fig.handle_close(fig, {}); } );\n",
       "    button.mouseover('Stop Interaction', toolbar_mouse_event);\n",
       "    buttongrp.append(button);\n",
       "    var titlebar = this.root.find($('.ui-dialog-titlebar'));\n",
       "    titlebar.prepend(buttongrp);\n",
       "}\n",
       "\n",
       "mpl.figure.prototype._root_extra_style = function(el){\n",
       "    var fig = this\n",
       "    el.on(\"remove\", function(){\n",
       "\tfig.close_ws(fig, {});\n",
       "    });\n",
       "}\n",
       "\n",
       "mpl.figure.prototype._canvas_extra_style = function(el){\n",
       "    // this is important to make the div 'focusable\n",
       "    el.attr('tabindex', 0)\n",
       "    // reach out to IPython and tell the keyboard manager to turn it's self\n",
       "    // off when our div gets focus\n",
       "\n",
       "    // location in version 3\n",
       "    if (IPython.notebook.keyboard_manager) {\n",
       "        IPython.notebook.keyboard_manager.register_events(el);\n",
       "    }\n",
       "    else {\n",
       "        // location in version 2\n",
       "        IPython.keyboard_manager.register_events(el);\n",
       "    }\n",
       "\n",
       "}\n",
       "\n",
       "mpl.figure.prototype._key_event_extra = function(event, name) {\n",
       "    var manager = IPython.notebook.keyboard_manager;\n",
       "    if (!manager)\n",
       "        manager = IPython.keyboard_manager;\n",
       "\n",
       "    // Check for shift+enter\n",
       "    if (event.shiftKey && event.which == 13) {\n",
       "        this.canvas_div.blur();\n",
       "        // select the cell after this one\n",
       "        var index = IPython.notebook.find_cell_index(this.cell_info[0]);\n",
       "        IPython.notebook.select(index + 1);\n",
       "    }\n",
       "}\n",
       "\n",
       "mpl.figure.prototype.handle_save = function(fig, msg) {\n",
       "    fig.ondownload(fig, null);\n",
       "}\n",
       "\n",
       "\n",
       "mpl.find_output_cell = function(html_output) {\n",
       "    // Return the cell and output element which can be found *uniquely* in the notebook.\n",
       "    // Note - this is a bit hacky, but it is done because the \"notebook_saving.Notebook\"\n",
       "    // IPython event is triggered only after the cells have been serialised, which for\n",
       "    // our purposes (turning an active figure into a static one), is too late.\n",
       "    var cells = IPython.notebook.get_cells();\n",
       "    var ncells = cells.length;\n",
       "    for (var i=0; i<ncells; i++) {\n",
       "        var cell = cells[i];\n",
       "        if (cell.cell_type === 'code'){\n",
       "            for (var j=0; j<cell.output_area.outputs.length; j++) {\n",
       "                var data = cell.output_area.outputs[j];\n",
       "                if (data.data) {\n",
       "                    // IPython >= 3 moved mimebundle to data attribute of output\n",
       "                    data = data.data;\n",
       "                }\n",
       "                if (data['text/html'] == html_output) {\n",
       "                    return [cell, data, j];\n",
       "                }\n",
       "            }\n",
       "        }\n",
       "    }\n",
       "}\n",
       "\n",
       "// Register the function which deals with the matplotlib target/channel.\n",
       "// The kernel may be null if the page has been refreshed.\n",
       "if (IPython.notebook.kernel != null) {\n",
       "    IPython.notebook.kernel.comm_manager.register_target('matplotlib', mpl.mpl_figure_comm);\n",
       "}\n"
      ],
      "text/plain": [
       "<IPython.core.display.Javascript object>"
      ]
     },
     "metadata": {},
     "output_type": "display_data"
    },
    {
     "data": {
      "text/html": [
       "<img src=\"data:image/png;base64,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\" width=\"639.999990463257\">"
      ],
      "text/plain": [
       "<IPython.core.display.HTML object>"
      ]
     },
     "metadata": {},
     "output_type": "display_data"
    },
    {
     "data": {
      "application/vnd.jupyter.widget-view+json": {
       "model_id": "acc8146d670f43dabb566077845c9db5",
       "version_major": 2,
       "version_minor": 0
      },
      "text/plain": [
       "interactive(children=(FloatSlider(value=1.0, description='ahorro', max=12.0, min=-12.0, step=0.2), FloatSlider…"
      ]
     },
     "metadata": {},
     "output_type": "display_data"
    }
   ],
   "source": [
    "fig2 = plt.figure(2)\n",
    "ax2 = fig2.add_subplot(111)\n",
    "\n",
    "def plotting2(ahorro = 1, depositoInicial = 1):\n",
    "    \n",
    "    y2 = f2(ahorro, depositoInicial, t)\n",
    "    ax2.clear()\n",
    "    ax2.plot(t,y2, label = r\"$y(t)=yt + y(0)$\",c = \"g\", lw = 2.5)\n",
    "    ax2.spines['left'].set_position(('data', 0))\n",
    "    ax2.spines['bottom'].set_position(('data', 0))\n",
    "    ax2.spines['right'].set_color('none')\n",
    "    ax2.spines['top'].set_color('none')\n",
    "    ax2.set_title(\"Cuenta de ahorro con tasa de interés fija igual a cero\")\n",
    "    plt.legend()\n",
    "    plt.grid()\n",
    "    print(f2(ahorro, depositoInicial, 0))\n",
    "    print(t,y2)\n",
    "    \n",
    "controles2 = wg.interactive(plotting2, ahorro = (-12.0, 12.0,0.2), depositoInicial = (0, 12.0,0.2))\n",
    "controles2"
   ]
  },
  {
   "cell_type": "markdown",
   "metadata": {
    "slideshow": {
     "slide_type": "slide"
    }
   },
   "source": [
    "Ahora comparando la composición continua (expresada por una ecuación diferencial) con capitalización ordinaria (una ecuación en diferencias). La ecuación diferencia comienza con la misma $Y_{0} = y(0)$. Esto cambia a $Y1$ y luego a $Y2$ y $Y3$, dando un tiempo finito cada año. Cuando el tiempo pase $\\Delta t$ el primer año, la taza de intereses es A por año y la taza de ahorro es Q por año."
   ]
  },
  {
   "cell_type": "markdown",
   "metadata": {
    "slideshow": {
     "slide_type": "subslide"
    }
   },
   "source": [
    "\\begin{eqnarray*}\n",
    "\\frac{dy}{dy} = ay + q \n",
    "\\end{eqnarray*}"
   ]
  },
  {
   "cell_type": "markdown",
   "metadata": {
    "slideshow": {
     "slide_type": "fragment"
    }
   },
   "source": [
    "Cambia a"
   ]
  },
  {
   "cell_type": "markdown",
   "metadata": {
    "slideshow": {
     "slide_type": "fragment"
    }
   },
   "source": [
    "\\begin{eqnarray*}\n",
    "\\frac{Y_{n+1} - Y_{n}}{\\Delta y} = AY_{n} + Q\n",
    "\\end{eqnarray*}"
   ]
  },
  {
   "cell_type": "markdown",
   "metadata": {
    "slideshow": {
     "slide_type": "fragment"
    }
   },
   "source": [
    "No necesitamos cálculo para las ecuaciones diferenciales. La derivada entra cuando el paso de tiempo $\\Delta t$ se acerca a cero."
   ]
  },
  {
   "cell_type": "markdown",
   "metadata": {
    "slideshow": {
     "slide_type": "subslide"
    }
   },
   "source": [
    "El modelo se ve más simple si multiplicamos\n",
    "\\begin{eqnarray*}\n",
    "(\\frac{Y_{n+1} - Y_{n}}{\\Delta t} = AY_{n} + Q) * (\\Delta t)\n",
    "\\end{eqnarray*}"
   ]
  },
  {
   "cell_type": "markdown",
   "metadata": {
    "slideshow": {
     "slide_type": "fragment"
    }
   },
   "source": [
    "esto es:"
   ]
  },
  {
   "cell_type": "markdown",
   "metadata": {
    "slideshow": {
     "slide_type": "fragment"
    }
   },
   "source": [
    "\\begin{eqnarray*}\n",
    "\\frac{Y_{n+1} - Y_{n}}{\\Delta y} = AY_{n} + Q\n",
    "\\\\\n",
    "Y_{n+1} - Y_{n} = (AY_{n} + Q) \\Delta t)\n",
    "\\\\\n",
    "Y_{n+1} = A Y_{n}\\Delta t + Q \\Delta t + Y_{n}\n",
    "\\\\\n",
    "Y_{n+1} = (1 + A\\Delta t) Y_{n} + Q \\Delta t\n",
    "\\end{eqnarray*}"
   ]
  },
  {
   "cell_type": "markdown",
   "metadata": {
    "slideshow": {
     "slide_type": "subslide"
    }
   },
   "source": [
    "Para el final del año $n$ el banco agrega intereses $A Y_{n}\\Delta t$ para equilibrar el $Y_{n}$ anterior si $n > 1$. También pone nuevos ahorros (o gastos si $Q > 0$). El nuevo año empieza con $Y_{n+1}$.\n",
    "\n",
    "En caso de $A \\Delta y = \\frac{at}{N}$ y $Q = 0$, Regresamos a $Y_{n+1} = (1 + \\frac{at}{N}) Y_{n}$\n",
    "\n",
    "\n",
    "\n",
    "Donde N va desde 0 hasta N.~~~~~~$Y_{N} = (1 + \\frac{at}{N})^{N} Y_{0}$~~$\\longrightarrow$~~$e^{at}y(0)$~~~~ cuando $N\\longrightarrow \\infty$"
   ]
  }
 ],
 "metadata": {
  "celltoolbar": "Slideshow",
  "kernelspec": {
   "display_name": "Python 3",
   "language": "python",
   "name": "python3"
  },
  "language_info": {
   "codemirror_mode": {
    "name": "ipython",
    "version": 3
   },
   "file_extension": ".py",
   "mimetype": "text/x-python",
   "name": "python",
   "nbconvert_exporter": "python",
   "pygments_lexer": "ipython3",
   "version": "3.7.4"
  },
  "rise": {
   "enable_chalkboard": true,
   "footer": "<h3>EDO</h3>",
   "header": "<h2>Equipo 1 - Modelo 1</h2>",
   "scroll": true,
   "theme": "blood",
   "transition": "convex"
  }
 },
 "nbformat": 4,
 "nbformat_minor": 2
}
